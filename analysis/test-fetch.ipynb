{
 "cells": [
  {
   "cell_type": "code",
   "execution_count": 5,
   "outputs": [
    {
     "name": "stdout",
     "output_type": "stream",
     "text": [
      "2022-08-18 18:17:14.388568: success for request [https://raw.githubusercontent.com/kickscar/HELLCHANG-PRACTICES/main/training-record/Week050.md]\n",
      "## 2022/08/08\n",
      "#### 1.Plank: 1mins 3reps\n",
      "#### 2.One Leg Deadlift\\[Kettlebell\\]: 10kg 15reps 5sets\n",
      "#### 3.Side Lateral Raise\\[Dumbbell\\]: 5kg 25reps 5sets\n",
      "#### 4.Behind the Neck Press\\[Machine, Smith\\]: 35kg 20reps 5sets\n",
      "#### 5.One Arm Shoulder Press\\[Dumbbell\\]: 10kg 20reps 5sets,\n",
      "#### 6.Reverse Pec Deck Fly\\[Machine, Pec Deck\\]: 30kg 20reps 4sets\n",
      "## 2022/08/09\n",
      "#### 1.Plank: 1mins 3reps\n",
      "#### 2.One Leg Deadlift\\[Kettlebell\\]: 10kg 15reps 5sets\n",
      "#### 3.Straight Arm Pulldown\\[Cable\\]: 20kg 20reps 5sets\n",
      "#### 4.Wide Pulldown Rear\\[Machine\\]: 30kg 20reps 5sets\n",
      "#### 5.Seated Row\\[Machine\\]: 30kg 20reps 5sets\n",
      "## 2022/08/10\n",
      "#### 1.Plank: 1mins 3reps\n",
      "#### 2.One Leg Deadlift\\[Kettlebell\\]: 10kg 15reps 5sets\n",
      "#### 3.Deadlift\\[Barbell\\]: 40kg 15reps 5sets\n",
      "#### 4.Power Leg Press\\[Machine\\]: 40kg 20reps 5sets\n",
      "#### 5.Lying Leg Curls\\[Machine\\]: 30kg 15reps 5sets\n",
      "#### 6.Split Squat\\[Kettlebell\\]: 10kg 15reps 5sets\n",
      "#### 7.Hip Abduction\\[Machine\\]: 65kg 20reps 5sets\n",
      "## 2022/08/11\n",
      "#### 1.Plank: 1mins 3reps\n",
      "#### 2.One Leg Deadlift\\[Kettlebell\\]: 10kg 15reps 5sets\n",
      "#### 3.Dips: 15reps 4sets\n",
      "#### 4.Flat Bench Press\\[Dumbbell\\]: 12kg 20reps 2sets, 14kg 20reps 2sets\n",
      "#### 5.Flat Bench Press\\[Barbell\\]: 40kg 15reps 2sets, 50kg 15reps 2sets\n",
      "#### 6.Cable Cross-Over\\[Cable\\]: 40kg 20reps 4sets\n",
      "#### 7.Running: 5km/30mins\n",
      "## 2022/08/12\n",
      "#### 1.Plank: 1mins 3reps\n",
      "#### 2.Side Lateral Raise\\[Dumbbell\\]: 5kg 25reps 5sets\n",
      "#### 3.Behind the Neck Press\\[Machine, Smith\\]: 30kg 20reps 5sets\n",
      "#### 4.One Arm Shoulder Press\\[Dumbbell\\]: 10kg 20reps 5sets,\n",
      "#### 5.Reverse Pec Deck Fly\\[Machine, Pec Deck\\]: 30kg 20reps 4sets\n",
      "#### 6.Military Press\\[Smith Machine\\]: 30kg 15reps 5sets\n",
      "## 2022/08/14\n",
      "#### 1.Plank: 1mins 3reps\n",
      "#### 2.One Leg Deadlift\\[Kettlebell\\]: 10kg 15reps 5sets\n",
      "#### 3.Assisted Pullup\\[Machine\\]: -20kg 15reps 5sets\n",
      "#### 4.Bent Over Row\\[Barbell\\]: 30kg 15reps 5sets\n",
      "#### 5.Long Pull Row\\[Cable\\]: 30kg 12reps 5sets\n",
      "#### 6.Wide Pulldown Rear\\[Machine\\]: 40kg 20reps 5sets\n",
      "#### 7.Seated Row\\[Machine\\]: 30kg 20reps 5sets\n",
      "#### 8.Straight Arm Pulldown\\[Cable\\]: 20kg 20reps 5sets\n",
      "2022-08-18 18:17:15.106299: success for request [https://raw.githubusercontent.com/kickscar/HELLCHANG-PRACTICES/main/training-record/Week051.md]\n",
      "## 2022/08/15\n",
      "#### 1.Plank: 1mins 3reps\n",
      "#### 2.One Leg Deadlift\\[Kettlebell\\]: 10kg 15reps 5sets\n",
      "#### 2.Flat Bench Press\\[Barbell\\]: 40kg 15reps 2sets, 50kg 15reps 2sets\n",
      "#### 3.Assisted Dips\\[Machine\\]: -20kg 15reps 5sets\n",
      "#### 4.Incline Bench Press\\[Dumbbell\\]: 12kg 15reps 3sets, 14kg 15reps 2sets\n",
      "#### 5.Cable Cross-Over\\[Cable\\]: 40kg 15reps 3sets\n",
      "#### 6.Chest Fly\\[Machine, Pec Deck\\]: 30kg 20reps 2sets, 35kg 20reps 2set\n",
      "#### 7.Running: 5km/30mins\n",
      "## 2022/08/16\n",
      "#### 1.Plank: 1mins 3reps\n",
      "#### 2.One Leg Deadlift\\[Kettlebell\\]: 10kg 15reps 5sets\n",
      "#### 3.Full Squat\\[Barbell\\]: 40kg 15reps 2sets, 50kg 10reps 3set\n",
      "#### 4.Leg Extension\\[Machine\\]: 30kg 15reps 3sets, 35kg 15reps 2sets\n",
      "#### 5.Seated One-Leg Press\\[Machine\\]: 40kg 15reps 5sets\n",
      "#### 6.Running: 5km/30mins\n",
      "## 2022/08/17\n",
      "#### 1.Plank: 1mins 3reps\n",
      "#### 2.Seated Row\\[Machine\\]: 30kg 20reps 5sets\n",
      "#### 3.Lat Pulldown\\[Machine\\]: 35kg 12reps 4sets\n",
      "#### 4.Long Pull Row\\[Cable\\]: 30kg 12reps 5sets\n",
      "#### 5.Bent Over Row\\[Barbell\\]: 30kg 15reps 5sets\n",
      "#### 6.Running: 5km/30mins\n"
     ]
    },
    {
     "ename": "UserWarning",
     "evalue": "-- finish --",
     "output_type": "error",
     "traceback": [
      "\u001B[0;31m---------------------------------------------------------------------------\u001B[0m",
      "\u001B[0;31mUserWarning\u001B[0m                               Traceback (most recent call last)",
      "Input \u001B[0;32mIn [5]\u001B[0m, in \u001B[0;36m<cell line: 17>\u001B[0;34m()\u001B[0m\n\u001B[1;32m     18\u001B[0m datasets \u001B[38;5;241m=\u001B[39m \u001B[38;5;28mlist\u001B[39m(fetch_week_records(index));\n\u001B[1;32m     20\u001B[0m \u001B[38;5;28;01mif\u001B[39;00m \u001B[38;5;28mlen\u001B[39m(datasets) \u001B[38;5;241m==\u001B[39m \u001B[38;5;241m0\u001B[39m:\n\u001B[0;32m---> 21\u001B[0m     \u001B[38;5;28;01mraise\u001B[39;00m \u001B[38;5;167;01mUserWarning\u001B[39;00m(\u001B[38;5;124m'\u001B[39m\u001B[38;5;124m-- finish --\u001B[39m\u001B[38;5;124m'\u001B[39m)\n\u001B[1;32m     23\u001B[0m \u001B[38;5;28;01mfor\u001B[39;00m dataset \u001B[38;5;129;01min\u001B[39;00m datasets:\n\u001B[1;32m     24\u001B[0m     \u001B[38;5;28mprint\u001B[39m(dataset)\n",
      "\u001B[0;31mUserWarning\u001B[0m: -- finish --"
     ]
    }
   ],
   "source": [
    "import sys\n",
    "from itertools import count\n",
    "from utils import crawling, clean_strings, filters\n",
    "\n",
    "\n",
    "def fetch_week_records(week):\n",
    "    yield from list(filter(\n",
    "        lambda s: s.startswith('#'),\n",
    "        filters(\n",
    "            crawling(\n",
    "                'https://raw.githubusercontent.com/kickscar/HELLCHANG-PRACTICES/main/training-record/Week0%02d.md' % week,\n",
    "                err=lambda e: None),\n",
    "            lambda d: [] if d is None else d.split('\\n'),\n",
    "            lambda d: clean_strings(d, str.strip))))\n",
    "\n",
    "\n",
    "for index in count(start=50):\n",
    "    datasets = list(fetch_week_records(index));\n",
    "\n",
    "    if len(datasets) == 0:\n",
    "        raise UserWarning('-- finish --')\n",
    "\n",
    "    for dataset in datasets:\n",
    "        print(dataset)"
   ],
   "metadata": {
    "collapsed": false,
    "pycharm": {
     "name": "#%%\n"
    }
   }
  },
  {
   "cell_type": "code",
   "execution_count": null,
   "outputs": [],
   "source": [],
   "metadata": {
    "collapsed": false,
    "pycharm": {
     "name": "#%%\n"
    }
   }
  }
 ],
 "metadata": {
  "kernelspec": {
   "display_name": "Python 3",
   "language": "python",
   "name": "python3"
  },
  "language_info": {
   "codemirror_mode": {
    "name": "ipython",
    "version": 2
   },
   "file_extension": ".py",
   "mimetype": "text/x-python",
   "name": "python",
   "nbconvert_exporter": "python",
   "pygments_lexer": "ipython2",
   "version": "2.7.6"
  }
 },
 "nbformat": 4,
 "nbformat_minor": 0
}