{
 "cells": [
  {
   "cell_type": "markdown",
   "source": [
    "## Preprocessing 01 (Working with Sampling)\n",
    "#### 1. Aquisition with Crawling\n",
    "#### 2. Tranformation included Cleansing & Denoising\n",
    "#### 3. Imputation"
   ],
   "metadata": {
    "collapsed": false,
    "pycharm": {
     "name": "#%% md\n"
    }
   }
  },
  {
   "cell_type": "code",
   "execution_count": null,
   "outputs": [],
   "source": [
    "import sys\n",
    "import ssl\n",
    "from urllib.request import Request, urlopen\n",
    "from datetime import datetime\n",
    "\n",
    "def crawling(url='', encoding='utf-8', err=lambda e: print(f'{e} : {datetime.now()}', file=sys.stderr)):\n",
    "    try:\n",
    "        req = Request(url)\n",
    "        ssl._create_default_https_context = ssl._create_unverified_context\n",
    "\n",
    "        resp = urlopen(req)\n",
    "        recv = resp.read().decode(encoding, errors='replace')\n",
    "\n",
    "        print(f'{datetime.now()}: success for request [{url}]')\n",
    "        return recv\n",
    "    except Exception as e:\n",
    "        err(e)"
   ],
   "metadata": {
    "collapsed": false,
    "pycharm": {
     "name": "#%%\n"
    }
   }
  },
  {
   "cell_type": "code",
   "execution_count": null,
   "outputs": [],
   "source": [
    "from functools import reduce\n",
    "from itertools import count\n",
    "\n",
    "resfetch = []\n",
    "for idx in count(start=1):\n",
    "    l = len(resfetch)\n",
    "    resfetch[l:] = list(filter(\n",
    "        lambda s: s.startswith('#'),\n",
    "        reduce(\n",
    "            lambda param, func: func(param),\n",
    "            [lambda txt: [] if txt is None else txt.splitlines(), lambda strs: [f(s) for f in [str.strip] for s in strs]],\n",
    "            crawling(\n",
    "                'https://raw.githubusercontent.com/kickscar/HELLCHANG-PRACTICES/main/training-record/Week0%02d.md' % idx,\n",
    "                err=lambda e: None\n",
    "            )\n",
    "        )\n",
    "    ))\n",
    "    if len(resfetch) == l:\n",
    "        break\n",
    "\n",
    "print(resfetch)"
   ],
   "metadata": {
    "collapsed": false,
    "pycharm": {
     "name": "#%%\n"
    }
   }
  },
  {
   "cell_type": "code",
   "execution_count": null,
   "outputs": [],
   "source": [
    "import re\n",
    "\n",
    "restransform = []\n",
    "for res in resfetch:\n",
    "    if res.startswith('####'):\n",
    "        # 1. split name and record\n",
    "        name, record = (s.strip() for s in res.replace('####', '').strip().split(':'))\n",
    "\n",
    "        # 2. cleansing name\n",
    "        name = re.sub(r'[\\d+\\\\.]', '', name).strip()\n",
    "        p = re.compile(r'([a-zA-Z\\s\\',]+)\\s*\\[([a-zA-Z\\s\\',]+)\\]').match(name)\n",
    "        if p is not None:\n",
    "            name, tool = p.groups()\n",
    "            name = ''.join([name.strip(), f'[{tool.strip()}]']).title()\n",
    "        # sval, unit = re.compile(r'(\\d+.\\d*)\\s*(.*)').match(re.sub(r\"[\\([{})\\]\\s]\", \"\", val)).groups()\n",
    "\n",
    "        restransform[len(restransform):] = [(date, name, *re.split(r'\\s+', record.strip()))]\n",
    "    elif res.startswith('##'):\n",
    "        date = datetime.strptime(res.replace('##', '').strip(), '%Y/%m/%d')\n",
    "\n",
    "print(restransform)"
   ],
   "metadata": {
    "collapsed": false,
    "pycharm": {
     "name": "#%%\n"
    }
   }
  },
  {
   "cell_type": "code",
   "execution_count": null,
   "outputs": [],
   "source": [
    "# Which Exercise?\n",
    "\n",
    "exs = [t[1] for t in restransform]\n",
    "dataset_exs = [(ex, exs.count(ex)) for ex in list(set(exs))]\n",
    "\n",
    "sorted_by_ex = sorted(dataset_exs, key=lambda t: t[0])\n",
    "for d in sorted_by_ex:\n",
    "    print(d)"
   ],
   "metadata": {
    "collapsed": false,
    "pycharm": {
     "name": "#%%\n"
    }
   }
  },
  {
   "cell_type": "code",
   "execution_count": null,
   "outputs": [],
   "source": [
    "# and How Often?\n",
    "sorted_by_count = sorted(dataset_exs, key=lambda t: t[1], reverse=True)\n",
    "for d in sorted_by_count:\n",
    "    print(d)"
   ],
   "metadata": {
    "collapsed": false,
    "pycharm": {
     "name": "#%%\n"
    }
   }
  }
 ],
 "metadata": {
  "kernelspec": {
   "display_name": "Python 3",
   "language": "python",
   "name": "python3"
  },
  "language_info": {
   "codemirror_mode": {
    "name": "ipython",
    "version": 2
   },
   "file_extension": ".py",
   "mimetype": "text/x-python",
   "name": "python",
   "nbconvert_exporter": "python",
   "pygments_lexer": "ipython2",
   "version": "2.7.6"
  }
 },
 "nbformat": 4,
 "nbformat_minor": 0
}