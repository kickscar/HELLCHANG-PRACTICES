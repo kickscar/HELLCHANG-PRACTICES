{
 "cells": [
  {
   "cell_type": "markdown",
   "source": [
    "## Workout Analytics -01-\n",
    "#### 01. Aquisition with Crawling"
   ],
   "metadata": {
    "collapsed": false,
    "pycharm": {
     "name": "#%% md\n"
    }
   }
  },
  {
   "cell_type": "code",
   "execution_count": null,
   "outputs": [],
   "source": [
    "import sys\n",
    "import ssl\n",
    "from datetime import datetime\n",
    "from urllib.request import Request, urlopen\n",
    "from functools import reduce\n",
    "from itertools import count\n",
    "\n",
    "\n",
    "resfetch = []\n",
    "try:\n",
    "    ssl._create_default_https_context = ssl._create_unverified_context\n",
    "\n",
    "    for idx in count(start=1):\n",
    "        l = len(resfetch)\n",
    "        resfetch[l:] = list(filter(\n",
    "            lambda s: s.startswith('#'),\n",
    "            reduce(\n",
    "                lambda param, func: func(param),\n",
    "                [lambda raw: [] if raw is None else raw.splitlines(), lambda strs: [f(s) for f in [str.strip] for s in strs]],\n",
    "                urlopen(Request('https://raw.githubusercontent.com/kickscar/HELLCHANG-PRACTICES/main/datasets/Week0%02d.md' % idx)).read().decode('utf-8', errors='replace')\n",
    "            )\n",
    "        ))\n",
    "\n",
    "        if len(resfetch) == l:\n",
    "            break\n",
    "except Exception as err:\n",
    "    (lambda e: print(f'{e} : {datetime.now()}', file=sys.stderr))(err)\n",
    "\n",
    "print(resfetch)"
   ],
   "metadata": {
    "collapsed": false,
    "pycharm": {
     "name": "#%%\n"
    }
   }
  }
 ],
 "metadata": {
  "kernelspec": {
   "display_name": "Python 3",
   "language": "python",
   "name": "python3"
  },
  "language_info": {
   "codemirror_mode": {
    "name": "ipython",
    "version": 2
   },
   "file_extension": ".py",
   "mimetype": "text/x-python",
   "name": "python",
   "nbconvert_exporter": "python",
   "pygments_lexer": "ipython2",
   "version": "2.7.6"
  }
 },
 "nbformat": 4,
 "nbformat_minor": 0
}