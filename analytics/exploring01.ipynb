{
 "cells": [
  {
   "cell_type": "markdown",
   "source": [
    "## Workout Analytics\n",
    "#### 01. Aquisition with Crawling\n",
    "#### 02. Transformation with Cleansing, Denoising, Imputation and Normalization(using Exercise-Dictionary)\n",
    "#### 03. Exploring Basically"
   ],
   "metadata": {
    "collapsed": false,
    "pycharm": {
     "name": "#%% md\n"
    }
   }
  },
  {
   "cell_type": "code",
   "execution_count": 1,
   "outputs": [
    {
     "name": "stdout",
     "output_type": "stream",
     "text": [
      "Aquisition Raw Data Count: 2307\n"
     ]
    }
   ],
   "source": [
    "import ssl\n",
    "from urllib.request import Request, urlopen\n",
    "from functools import reduce\n",
    "from itertools import count\n",
    "\n",
    "resfetch = []\n",
    "try:\n",
    "    ssl._create_default_https_context = ssl._create_unverified_context\n",
    "\n",
    "    for idx in count(start=1):\n",
    "        l = len(resfetch)\n",
    "        resfetch[l:] = list(filter(\n",
    "            lambda s: s.startswith('#'),\n",
    "            reduce(\n",
    "                lambda param, func: func(param),\n",
    "                [lambda raw: [] if raw is None else raw.splitlines(), lambda strs: [f(s) for f in [str.strip] for s in strs]],\n",
    "                urlopen(Request('https://raw.githubusercontent.com/kickscar/HELLCHANG-PRACTICES/main/datasets/Week0%02d.md' % idx)).read().decode('utf-8', errors='replace')\n",
    "            )\n",
    "        ))\n",
    "\n",
    "        if len(resfetch) == l:\n",
    "            break\n",
    "except Exception as err:\n",
    "    (lambda e: None)(err)\n",
    "\n",
    "print(f'Aquisition Raw Data Count: {len(resfetch)}')"
   ],
   "metadata": {
    "collapsed": false,
    "pycharm": {
     "name": "#%%\n"
    }
   }
  },
  {
   "cell_type": "code",
   "execution_count": 2,
   "outputs": [
    {
     "name": "stdout",
     "output_type": "stream",
     "text": [
      "Loding Exercise Dictionary Pickle[/Users/kickscar/DoWork/PycharmProjects/HELLCHANG-PRACTICES/datasets/pickles/exercise-dict.pkl]\n"
     ]
    }
   ],
   "source": [
    "from pathlib import Path\n",
    "import os\n",
    "import pickle\n",
    "\n",
    "dictfile = os.path.join(Path(os.getcwd()).parent, 'datasets', 'pickles', 'exercise-dict.pkl')\n",
    "with open(dictfile, 'rb') as file:\n",
    "    exercisedict = pickle.load(file)\n",
    "\n",
    "print(f'Loding Exercise Dictionary Pickle[{dictfile}]')"
   ],
   "metadata": {
    "collapsed": false,
    "pycharm": {
     "name": "#%%\n"
    }
   }
  },
  {
   "cell_type": "code",
   "execution_count": 3,
   "outputs": [
    {
     "name": "stdout",
     "output_type": "stream",
     "text": [
      "Raw Data Count(Exercises, Days): (2036, 271)\n",
      "Exercise Transform Data(Tuple) Count: 2036\n"
     ]
    }
   ],
   "source": [
    "import re\n",
    "from datetime import datetime\n",
    "\n",
    "restransform = []\n",
    "exs_dict = exercisedict['exercises']\n",
    "eqptdials_dict = exercisedict['equipment-dialects']\n",
    "\n",
    "exercise_rawdata_count = 0\n",
    "date_rawdata_count = 0\n",
    "\n",
    "for res in resfetch:\n",
    "    if res.startswith('####'):\n",
    "        exercise_rawdata_count = exercise_rawdata_count + 1\n",
    "\n",
    "        # 1. split exercise name & record\n",
    "        exname, exrecord = (s.strip() for s in res.replace('####', '').strip().split(':'))\n",
    "\n",
    "        # 2. normalize exercise name with equipment\n",
    "        exname = re.sub(r'[\\d+\\\\.]', '', exname).strip()\n",
    "        pttrmatch = re.compile(r'([a-zA-Z\\s\\',()\\-]+)\\s*\\[([a-zA-Z\\s\\',]+)\\]').match(exname)\n",
    "        exname, equipment = (exname, None) if pttrmatch is None else pttrmatch.groups()\n",
    "\n",
    "        # 2-1. name\n",
    "        exname = exname.strip().title()\n",
    "        for exkey in exs_dict:\n",
    "            exdials = exs_dict[exkey]['dialects']\n",
    "            if exname in exdials:\n",
    "                exname = exkey\n",
    "                break\n",
    "\n",
    "        # 2-2. equipment\n",
    "        if equipment:\n",
    "            equipment = equipment.strip().title()\n",
    "            for eqptdials_key in eqptdials_dict:\n",
    "                if equipment in eqptdials_dict[eqptdials_key]:\n",
    "                    equipment = eqptdials_key\n",
    "                    break\n",
    "\n",
    "            exname = f'{exname}[{equipment}]'\n",
    "\n",
    "        # 3.\n",
    "        # sval, unit = re.compile(r'(\\d+.\\d*)\\s*(.*)').match(re.sub(r\"[\\([{})\\]\\s]\", \"\", val)).groups()\n",
    "\n",
    "        restransform[len(restransform):] = [(date, exname, *re.split(r'\\s+', exrecord.strip()))]\n",
    "    elif res.startswith('##'):\n",
    "        date_rawdata_count = date_rawdata_count + 1\n",
    "        date = datetime.strptime(res.replace('##', '').strip(), '%Y/%m/%d')\n",
    "\n",
    "print(f'Raw Data Count(Exercises, Days): ({exercise_rawdata_count}, {date_rawdata_count})')\n",
    "print(f'Exercise Transform Data(Tuple) Count: {len(restransform)}')"
   ],
   "metadata": {
    "collapsed": false,
    "pycharm": {
     "name": "#%%\n"
    }
   }
  },
  {
   "cell_type": "code",
   "execution_count": 4,
   "outputs": [
    {
     "name": "stdout",
     "output_type": "stream",
     "text": [
      "Exercise Days: 271\n"
     ]
    }
   ],
   "source": [
    "# 03. Exploring1: How Exercise Days?\n",
    "days = list(set([t[0] for t in restransform]))\n",
    "print(f'Exercise Days: {len(days)}')"
   ],
   "metadata": {
    "collapsed": false,
    "pycharm": {
     "name": "#%%\n"
    }
   }
  },
  {
   "cell_type": "code",
   "execution_count": 5,
   "outputs": [
    {
     "name": "stdout",
     "output_type": "stream",
     "text": [
      "('Arnold Press[Dumbbell]', 16)\n",
      "('Assisted Dips[Machine]', 43)\n",
      "('Assisted Pull-Up[Machine]', 57)\n",
      "('Back Extension', 36)\n",
      "('Barbell Lunge[Smith Machine]', 1)\n",
      "('Behind The Neck Press[Smith Machine]', 4)\n",
      "('Bent Over Lateral Raise[Dumbbell]', 3)\n",
      "('Bent Over Row[Barbell]', 7)\n",
      "('Bent Over Row[Dumbbell]', 16)\n",
      "('Biceps Curls[Barbell]', 1)\n",
      "('Biceps Curls[Dumbbell]', 2)\n",
      "('Biceps Curls[EZ Curl Bar]', 1)\n",
      "('Biceps Curls[Fixed Barbell]', 2)\n",
      "('Biceps Curls[Machine]', 13)\n",
      "('Body-Weight Squat', 5)\n",
      "('Cable Chest Fly[Cable]', 1)\n",
      "('Cable Cross-Over[Cable]', 5)\n",
      "('Chest Fly[Pec Deck Machine]', 41)\n",
      "('Cross Lunges', 1)\n",
      "('Dead Bug', 2)\n",
      "('Deadlift[Barbell]', 87)\n",
      "('Deadlift[Dumbbell]', 8)\n",
      "('Deadlift[Kettlebell]', 12)\n",
      "('Decline Bench Press[Barbell]', 10)\n",
      "('Dips', 18)\n",
      "('Face Pulls[Cable]', 1)\n",
      "('Flat Bench Press[Barbell]', 56)\n",
      "('Flat Bench Press[Dumbbel]', 1)\n",
      "('Flat Bench Press[Dumbbell]', 2)\n",
      "('Flat Bench Press[Free]', 1)\n",
      "('Flat Bench Press[Smith Machine]', 7)\n",
      "('Flat Chest Press[Barbell]', 1)\n",
      "('Flat Chest Press[Dumbbell]', 15)\n",
      "('Flat Chest Press[Machine]', 8)\n",
      "('Front Lateral Raise[Dumbbell]', 3)\n",
      "('Full Squat[Barbell]', 1)\n",
      "('Full Squat[Smith Machine]', 2)\n",
      "('Goblet Squat[Dumbbell]', 3)\n",
      "('Goblet Squat[Kettlebell]', 15)\n",
      "('Hack Squat[Machine]', 6)\n",
      "('Hammer Curls[Dumbbell]', 12)\n",
      "('Hanging Leg Raise', 3)\n",
      "(\"Hanging Leg Raises[Captain'S Chair]\", 16)\n",
      "('Hiit[Cycle]', 9)\n",
      "('Hip Abduction', 1)\n",
      "('Hip Abduction[Machine]', 79)\n",
      "('Hip Adduction[Machine]', 81)\n",
      "('Hip Bridge', 15)\n",
      "('Hip External Rotation', 1)\n",
      "('Hip Thrust', 5)\n",
      "('Incline Bench Cable Fly[Cable]', 1)\n",
      "('Incline Bench Press[Barbell]', 20)\n",
      "('Incline Bench Press[Dumbbell]', 17)\n",
      "('Incline Bench Press[Machine]', 35)\n",
      "('Incline Bench Press[Smith Machine]', 26)\n",
      "('Incline Bench Row[Dumbbell]', 1)\n",
      "('Incline Chest Fly[Dumbbell]', 3)\n",
      "('Incline Dumbbel Row[Dumbbell]', 1)\n",
      "('Jump Squat[Kettlebell]', 1)\n",
      "('Lat Pulldown[Machine]', 101)\n",
      "('Leg Extension[Machine]', 62)\n",
      "('Long Pull Row[Cable]', 54)\n",
      "('Long Pull Row[Machine]', 11)\n",
      "('Lunge[Dumbbell]', 1)\n",
      "('Lying Leg Curls[Machine]', 116)\n",
      "('Lying Triceps Extension[EZ Curl Bar]', 10)\n",
      "('Military Press[Smith Machine]', 6)\n",
      "('One Arm Bent Over Row[Dumbbell]', 4)\n",
      "('One Arm Seated Row[Machine]', 5)\n",
      "('One Arm Shoulder Press[Dumbbell]', 3)\n",
      "('One Leg Daedlift[Kettlebell]', 1)\n",
      "('One Leg Deadlift[Dumbbell]', 1)\n",
      "('One Leg Deadlift[Kettlebell]', 37)\n",
      "('Plank', 100)\n",
      "('Power Leg Press[Machine]', 56)\n",
      "('Pull-Up', 12)\n",
      "('Push-Up', 11)\n",
      "('Reverse Cable Cross-Over[Cable]', 3)\n",
      "('Reverse Crunch', 4)\n",
      "('Reverse Pec Deck Fly[Pec Deck Machine]', 18)\n",
      "('Running', 45)\n",
      "('Running[Treadmill]', 2)\n",
      "('Seated Bent Over Lateral Raise[Dumbbell]', 3)\n",
      "('Seated Chest Press[Machine]', 89)\n",
      "('Seated Leg Press[Machine]', 14)\n",
      "('Seated Reverse Fly[Dumbbell]', 1)\n",
      "('Seated Row[Machine]', 72)\n",
      "('Shoulder Press[Barbell]', 3)\n",
      "('Shoulder Press[Dumbbell]', 2)\n",
      "('Shoulder Press[Machine]', 77)\n",
      "('Side Lateral Raise[Dumbbell]', 65)\n",
      "('Side Lateral Raise[Machine]', 11)\n",
      "('Side-Lying Hip Abduction', 32)\n",
      "('Split Squat', 1)\n",
      "('Split Squat[Dumbbell]', 1)\n",
      "('Split Squat[Kettlebell]', 7)\n",
      "('Split Squat[Smith Machine]', 7)\n",
      "('Squat[Dumbbell]', 5)\n",
      "('Squat[Kettlebell]', 1)\n",
      "('Straight Arm Pulldown[Cable]', 44)\n",
      "('Sumo Deadlift[Kettlebell]', 1)\n",
      "('Sumo Deadlift[Smith Machine]', 3)\n",
      "('Sumo Squat[Kettlebell]', 1)\n",
      "('Triceps Kickback[Dumbbell]', 2)\n",
      "('Triceps Pushdown[Cable]', 14)\n",
      "('Trx Lunge', 1)\n",
      "('Trx Row', 2)\n",
      "('Trx Suspended Lunge', 1)\n",
      "('Upright Row[EZ Curl Bar]', 6)\n",
      "('Vipr Ice Skater', 1)\n",
      "('Vipr Lateral Shuffle', 1)\n",
      "('Vipr Overhead Squat', 1)\n",
      "('Walking Lunge[Fixed Barbell]', 2)\n",
      "('Walking[Treadmill]', 2)\n",
      "('Wide Pulldown Rear[Machine]', 35)\n",
      "('Wide Squat[Kettlebell]', 2)\n",
      "('Wrist Roller', 22)\n"
     ]
    }
   ],
   "source": [
    "# 03. Exploring2: Which Exercises?\n",
    "exs = [t[1] for t in restransform]\n",
    "dataset_exs = [(ex, exs.count(ex)) for ex in list(set(exs))]\n",
    "\n",
    "sorted_by_ex = sorted(dataset_exs, key=lambda t: t[0])\n",
    "for d in sorted_by_ex:\n",
    "    print(d)"
   ],
   "metadata": {
    "collapsed": false,
    "pycharm": {
     "name": "#%%\n"
    }
   }
  },
  {
   "cell_type": "code",
   "execution_count": 6,
   "outputs": [
    {
     "name": "stdout",
     "output_type": "stream",
     "text": [
      "('Lying Leg Curls[Machine]', 116)\n",
      "('Lat Pulldown[Machine]', 101)\n",
      "('Plank', 100)\n",
      "('Seated Chest Press[Machine]', 89)\n",
      "('Deadlift[Barbell]', 87)\n",
      "('Hip Adduction[Machine]', 81)\n",
      "('Hip Abduction[Machine]', 79)\n",
      "('Shoulder Press[Machine]', 77)\n",
      "('Seated Row[Machine]', 72)\n",
      "('Side Lateral Raise[Dumbbell]', 65)\n",
      "('Leg Extension[Machine]', 62)\n",
      "('Assisted Pull-Up[Machine]', 57)\n",
      "('Power Leg Press[Machine]', 56)\n",
      "('Flat Bench Press[Barbell]', 56)\n",
      "('Long Pull Row[Cable]', 54)\n",
      "('Running', 45)\n",
      "('Straight Arm Pulldown[Cable]', 44)\n",
      "('Assisted Dips[Machine]', 43)\n",
      "('Chest Fly[Pec Deck Machine]', 41)\n",
      "('One Leg Deadlift[Kettlebell]', 37)\n",
      "('Back Extension', 36)\n",
      "('Incline Bench Press[Machine]', 35)\n",
      "('Wide Pulldown Rear[Machine]', 35)\n",
      "('Side-Lying Hip Abduction', 32)\n",
      "('Incline Bench Press[Smith Machine]', 26)\n",
      "('Wrist Roller', 22)\n",
      "('Incline Bench Press[Barbell]', 20)\n",
      "('Dips', 18)\n",
      "('Reverse Pec Deck Fly[Pec Deck Machine]', 18)\n",
      "('Incline Bench Press[Dumbbell]', 17)\n",
      "(\"Hanging Leg Raises[Captain'S Chair]\", 16)\n",
      "('Arnold Press[Dumbbell]', 16)\n",
      "('Bent Over Row[Dumbbell]', 16)\n",
      "('Goblet Squat[Kettlebell]', 15)\n",
      "('Flat Chest Press[Dumbbell]', 15)\n",
      "('Hip Bridge', 15)\n",
      "('Triceps Pushdown[Cable]', 14)\n",
      "('Seated Leg Press[Machine]', 14)\n",
      "('Biceps Curls[Machine]', 13)\n",
      "('Pull-Up', 12)\n",
      "('Hammer Curls[Dumbbell]', 12)\n",
      "('Deadlift[Kettlebell]', 12)\n",
      "('Side Lateral Raise[Machine]', 11)\n",
      "('Long Pull Row[Machine]', 11)\n",
      "('Push-Up', 11)\n",
      "('Lying Triceps Extension[EZ Curl Bar]', 10)\n",
      "('Decline Bench Press[Barbell]', 10)\n",
      "('Hiit[Cycle]', 9)\n",
      "('Flat Chest Press[Machine]', 8)\n",
      "('Deadlift[Dumbbell]', 8)\n",
      "('Split Squat[Kettlebell]', 7)\n",
      "('Flat Bench Press[Smith Machine]', 7)\n",
      "('Bent Over Row[Barbell]', 7)\n",
      "('Split Squat[Smith Machine]', 7)\n",
      "('Upright Row[EZ Curl Bar]', 6)\n",
      "('Military Press[Smith Machine]', 6)\n",
      "('Hack Squat[Machine]', 6)\n",
      "('Cable Cross-Over[Cable]', 5)\n",
      "('Body-Weight Squat', 5)\n",
      "('One Arm Seated Row[Machine]', 5)\n",
      "('Squat[Dumbbell]', 5)\n",
      "('Hip Thrust', 5)\n",
      "('Behind The Neck Press[Smith Machine]', 4)\n",
      "('Reverse Crunch', 4)\n",
      "('One Arm Bent Over Row[Dumbbell]', 4)\n",
      "('Sumo Deadlift[Smith Machine]', 3)\n",
      "('Goblet Squat[Dumbbell]', 3)\n",
      "('Shoulder Press[Barbell]', 3)\n",
      "('Hanging Leg Raise', 3)\n",
      "('Seated Bent Over Lateral Raise[Dumbbell]', 3)\n",
      "('Bent Over Lateral Raise[Dumbbell]', 3)\n",
      "('Incline Chest Fly[Dumbbell]', 3)\n",
      "('Reverse Cable Cross-Over[Cable]', 3)\n",
      "('Front Lateral Raise[Dumbbell]', 3)\n",
      "('One Arm Shoulder Press[Dumbbell]', 3)\n",
      "('Biceps Curls[Fixed Barbell]', 2)\n",
      "('Walking[Treadmill]', 2)\n",
      "('Dead Bug', 2)\n",
      "('Shoulder Press[Dumbbell]', 2)\n",
      "('Biceps Curls[Dumbbell]', 2)\n",
      "('Flat Bench Press[Dumbbell]', 2)\n",
      "('Full Squat[Smith Machine]', 2)\n",
      "('Running[Treadmill]', 2)\n",
      "('Triceps Kickback[Dumbbell]', 2)\n",
      "('Wide Squat[Kettlebell]', 2)\n",
      "('Trx Row', 2)\n",
      "('Walking Lunge[Fixed Barbell]', 2)\n",
      "('Split Squat', 1)\n",
      "('Cross Lunges', 1)\n",
      "('One Leg Deadlift[Dumbbell]', 1)\n",
      "('Trx Lunge', 1)\n",
      "('Incline Bench Row[Dumbbell]', 1)\n",
      "('Hip Abduction', 1)\n",
      "('Cable Chest Fly[Cable]', 1)\n",
      "('Jump Squat[Kettlebell]', 1)\n",
      "('Hip External Rotation', 1)\n",
      "('Vipr Ice Skater', 1)\n",
      "('Seated Reverse Fly[Dumbbell]', 1)\n",
      "('Trx Suspended Lunge', 1)\n",
      "('Lunge[Dumbbell]', 1)\n",
      "('Sumo Squat[Kettlebell]', 1)\n",
      "('Incline Dumbbel Row[Dumbbell]', 1)\n",
      "('Squat[Kettlebell]', 1)\n",
      "('Split Squat[Dumbbell]', 1)\n",
      "('Face Pulls[Cable]', 1)\n",
      "('Sumo Deadlift[Kettlebell]', 1)\n",
      "('Flat Chest Press[Barbell]', 1)\n",
      "('Flat Bench Press[Dumbbel]', 1)\n",
      "('Vipr Lateral Shuffle', 1)\n",
      "('Flat Bench Press[Free]', 1)\n",
      "('Biceps Curls[Barbell]', 1)\n",
      "('Full Squat[Barbell]', 1)\n",
      "('One Leg Daedlift[Kettlebell]', 1)\n",
      "('Vipr Overhead Squat', 1)\n",
      "('Biceps Curls[EZ Curl Bar]', 1)\n",
      "('Barbell Lunge[Smith Machine]', 1)\n",
      "('Incline Bench Cable Fly[Cable]', 1)\n"
     ]
    }
   ],
   "source": [
    "# 03. Exploring3: and How Often?\n",
    "sorted_by_count = sorted(dataset_exs, key=lambda t: t[1], reverse=True)\n",
    "for d in sorted_by_count:\n",
    "     print(d)"
   ],
   "metadata": {
    "collapsed": false,
    "pycharm": {
     "name": "#%%\n"
    }
   }
  }
 ],
 "metadata": {
  "kernelspec": {
   "display_name": "Python 3",
   "language": "python",
   "name": "python3"
  },
  "language_info": {
   "codemirror_mode": {
    "name": "ipython",
    "version": 2
   },
   "file_extension": ".py",
   "mimetype": "text/x-python",
   "name": "python",
   "nbconvert_exporter": "python",
   "pygments_lexer": "ipython2",
   "version": "2.7.6"
  }
 },
 "nbformat": 4,
 "nbformat_minor": 0
}