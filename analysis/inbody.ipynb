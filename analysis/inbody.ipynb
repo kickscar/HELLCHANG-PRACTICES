{
 "cells": [
  {
   "cell_type": "markdown",
   "source": [
    "## InBody Graph\n",
    "\n",
    "#### WT: 체중 kg\n",
    "#### SMM: 골격근량 kg\n",
    "#### BFM: 체지방  kg\n",
    "#### PFM: 체지방률 %"
   ],
   "metadata": {
    "collapsed": false,
    "pycharm": {
     "name": "#%% md\n"
    }
   }
  },
  {
   "cell_type": "code",
   "execution_count": null,
   "outputs": [],
   "source": [
    "import sys\n",
    "from utils import crawling, clean_strings, filters, seperate_value\n",
    "\n",
    "results_fetch = list(filter(\n",
    "        lambda s: s.startswith('#'),\n",
    "        filters(\n",
    "            crawling(\n",
    "                f'https://raw.githubusercontent.com/kickscar/HELLCHANG-PRACTICES/main/InBody.md',\n",
    "                err=lambda e: None),\n",
    "            lambda lines: [] if lines is None else lines.split('\\n'),\n",
    "            lambda s: clean_strings(s, str.strip))))\n",
    "\n",
    "if len(results_fetch) == 0:\n",
    "    sys.exit(0)\n",
    "\n",
    "print(results_fetch)"
   ],
   "metadata": {
    "collapsed": false,
    "pycharm": {
     "name": "#%%\n"
    }
   }
  },
  {
   "cell_type": "code",
   "execution_count": null,
   "outputs": [],
   "source": [
    "results_arrange = []\n",
    "\n",
    "for record in results_fetch:\n",
    "    if record.startswith('####'):\n",
    "        item, value = (s.strip() for s in record.replace('####', '').strip().split(':'))\n",
    "        results_arrange.append((date, item, *seperate_value(value)))\n",
    "    elif record.startswith('##'):\n",
    "        date = record.replace('##', '').strip()\n",
    "\n",
    "print(results_arrange)"
   ],
   "metadata": {
    "collapsed": false,
    "pycharm": {
     "name": "#%%\n"
    }
   }
  },
  {
   "cell_type": "code",
   "execution_count": null,
   "outputs": [],
   "source": [
    "from datetime import datetime\n",
    "\n",
    "dataset_x, dataset_y, d, key = [], {}, '', ''\n",
    "for result in results_arrange:\n",
    "    if d != result[0]:\n",
    "        d = result[0]\n",
    "        dataset_x.append(datetime.strptime(d, '%Y.%m.%d'))\n",
    "\n",
    "    if key != result[1]:\n",
    "        key = result[1]\n",
    "        if key not in dataset_y:\n",
    "            dataset_y.update({key: {'unit': result[3], 'values': []}})\n",
    "        dataset_y[key]['values'].append(result[2])\n",
    "\n",
    "print(dataset_x)\n",
    "print(dataset_y)"
   ],
   "metadata": {
    "collapsed": false,
    "pycharm": {
     "name": "#%%\n"
    }
   }
  },
  {
   "cell_type": "code",
   "execution_count": null,
   "outputs": [],
   "source": [
    "from matplotlib.pyplot import figure\n",
    "from itertools import cycle\n",
    "from matplotlib import pyplot as plt\n",
    "\n",
    "dataset_x_days = [(x - dataset_x[0]).days for x in dataset_x]\n",
    "dataset_x_fdates = [x.strftime('%m.%d') for x in dataset_x]\n",
    "\n",
    "legendhandles = []\n",
    "cycol = cycle('bgrcmk')\n",
    "\n",
    "fig = plt.figure(figsize=(30, 10))\n",
    "spec = plt.GridSpec(1, 1)\n",
    "subplot = fig.add_subplot(spec[0, 0])\n",
    "\n",
    "subplot.set_yticks([])\n",
    "subplot.set_xticks(dataset_x_days)\n",
    "subplot.set_xticklabels(dataset_x_fdates, fontsize=9)\n",
    "\n",
    "twinx = None\n",
    "for key in dataset_y.keys():\n",
    "    twinx = (subplot if twinx is None else twinx).twinx()\n",
    "\n",
    "    twinx.set_yticks([])\n",
    "    line, = twinx.plot(dataset_x_days, dataset_y[key]['values'], 'o-', color=next(cycol), label=f\"{key}({dataset_y[key]['unit']})\")\n",
    "\n",
    "    for idx, yv in enumerate(dataset_y[key]['values']):\n",
    "        twinx.annotate(str(yv), xy=(dataset_x_days[idx], yv), xytext=(-10, 5), textcoords='offset points')\n",
    "\n",
    "    legendhandles.append(line)\n",
    "\n",
    "plt.legend(handles=legendhandles, loc='lower center')\n",
    "plt.show()"
   ],
   "metadata": {
    "collapsed": false,
    "pycharm": {
     "name": "#%%\n"
    }
   }
  }
 ],
 "metadata": {
  "kernelspec": {
   "display_name": "Python 3",
   "language": "python",
   "name": "python3"
  },
  "language_info": {
   "codemirror_mode": {
    "name": "ipython",
    "version": 2
   },
   "file_extension": ".py",
   "mimetype": "text/x-python",
   "name": "python",
   "nbconvert_exporter": "python",
   "pygments_lexer": "ipython2",
   "version": "2.7.6"
  }
 },
 "nbformat": 4,
 "nbformat_minor": 0
}