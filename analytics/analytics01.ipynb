{
 "cells": [
  {
   "cell_type": "markdown",
   "source": [
    "## Workout Analytics\n",
    "#### 01. Aquisition with Crawling\n",
    "#### 02. Transformation included Cleansing, Denoising and Normalization\n",
    "#### 03. Imputation"
   ],
   "metadata": {
    "collapsed": false,
    "pycharm": {
     "name": "#%% md\n"
    }
   }
  },
  {
   "cell_type": "code",
   "execution_count": null,
   "outputs": [],
   "source": [
    "import ssl\n",
    "from urllib.request import Request, urlopen\n",
    "from functools import reduce\n",
    "from itertools import count\n",
    "\n",
    "# 01. Acquisition with Crawling\n",
    "resfetch = []\n",
    "try:\n",
    "    ssl._create_default_https_context = ssl._create_unverified_context\n",
    "\n",
    "    for idx in count(start=1):\n",
    "        l = len(resfetch)\n",
    "        resfetch[l:] = list(filter(\n",
    "            lambda s: s.startswith('#'),\n",
    "            reduce(\n",
    "                lambda param, func: func(param),\n",
    "                [lambda raw: [] if raw is None else raw.splitlines(), lambda strs: [f(s) for f in [str.strip] for s in strs]],\n",
    "                urlopen(Request('https://raw.githubusercontent.com/kickscar/HELLCHANG-PRACTICES/main/datasets/Week0%02d.md' % idx)).read().decode('utf-8', errors='replace')\n",
    "            )\n",
    "        ))\n",
    "\n",
    "        if len(resfetch) == l:\n",
    "            break\n",
    "except Exception as err:\n",
    "    (lambda e: None)(err)\n",
    "\n",
    "print(f'Exercise Raw Data Count: {len(resfetch)}')"
   ],
   "metadata": {
    "collapsed": false,
    "pycharm": {
     "name": "#%%\n"
    }
   }
  },
  {
   "cell_type": "code",
   "execution_count": null,
   "outputs": [],
   "source": [
    "from pathlib import Path\n",
    "import os\n",
    "import pickle\n",
    "\n",
    "# Load Exercise Dictionary\n",
    "dictfile = os.path.join(Path(os.getcwd()).parent, 'datasets', 'exercise-dict.pkl')\n",
    "with open(dictfile, 'rb') as file:\n",
    "    exercisedict = pickle.load(file)\n",
    "\n",
    "print(f'Loding Exercise Dictionary Pickle[{dictfile}]')"
   ],
   "metadata": {
    "collapsed": false,
    "pycharm": {
     "name": "#%%\n"
    }
   }
  },
  {
   "cell_type": "code",
   "execution_count": null,
   "outputs": [],
   "source": [
    "import re\n",
    "from datetime import datetime\n",
    "\n",
    "# 02. Transformation included Cleansing, Denoising and Normalization\n",
    "restransform = []\n",
    "exs_dict = exercisedict['exercises']\n",
    "eqptdials_dict = exercisedict['equipment-dialects']\n",
    "\n",
    "exercise_rawdata_count = 0\n",
    "date_rawdata_count = 0\n",
    "\n",
    "for res in resfetch:\n",
    "    if res.startswith('####'):\n",
    "        # 0. counting\n",
    "        exercise_rawdata_count = exercise_rawdata_count + 1\n",
    "\n",
    "        # 1. split exercise name & record\n",
    "        exname, exrecord = (s.strip() for s in res.replace('####', '').strip().split(':'))\n",
    "\n",
    "        # 2. normalize exercise name with equipment\n",
    "        exname = re.sub(r'[\\d+\\\\.]', '', exname).strip()\n",
    "        pttrmatch = re.compile(r'([a-zA-Z\\s\\',]+)\\s*\\[([a-zA-Z\\s\\',]+)\\]').match(exname)\n",
    "        exname, equipment = (exname, None) if pttrmatch is None else pttrmatch.groups()\n",
    "\n",
    "        # 2-1. name\n",
    "        exname = exname.strip().title()\n",
    "        for exkey in exs_dict:\n",
    "            exdials = exs_dict[exkey]['dialects']\n",
    "            if exname in exdials:\n",
    "                exname = exkey\n",
    "                break\n",
    "\n",
    "        # 2-2. equipment\n",
    "        if equipment:\n",
    "            equipment = equipment.strip().title()\n",
    "            for eqptdials_key in eqptdials_dict:\n",
    "                if equipment in eqptdials_dict[eqptdials_key]:\n",
    "                    equipment = eqptdials_key\n",
    "                    break\n",
    "\n",
    "            exname = f'{exname}[{equipment}]'\n",
    "\n",
    "        # 3.\n",
    "        # sval, unit = re.compile(r'(\\d+.\\d*)\\s*(.*)').match(re.sub(r\"[\\([{})\\]\\s]\", \"\", val)).groups()\n",
    "\n",
    "        restransform[len(restransform):] = [(date, exname, *re.split(r'\\s+', exrecord.strip()))]\n",
    "    elif res.startswith('##'):\n",
    "        # 0. counting\n",
    "        date_rawdata_count = date_rawdata_count + 1\n",
    "        date = datetime.strptime(res.replace('##', '').strip(), '%Y/%m/%d')\n",
    "\n",
    "print(f'Raw Data Count(Exercise, Date): ({exercise_rawdata_count}, {date_rawdata_count})')\n",
    "print(f'Exercise Transform Data(Tuple) Count: {len(restransform)}')"
   ],
   "metadata": {
    "collapsed": false,
    "pycharm": {
     "name": "#%%\n"
    }
   }
  },
  {
   "cell_type": "code",
   "execution_count": null,
   "outputs": [],
   "source": [
    "# 03. Imputation1: Exercise Days?\n"
   ],
   "metadata": {
    "collapsed": false,
    "pycharm": {
     "name": "#%%\n"
    }
   }
  },
  {
   "cell_type": "code",
   "execution_count": null,
   "outputs": [],
   "source": [
    "# 03. Imputation2: Which Exercises?\n",
    "exs = [t[1] for t in restransform]\n",
    "dataset_exs = [(ex, exs.count(ex)) for ex in list(set(exs))]\n",
    "\n",
    "sorted_by_ex = sorted(dataset_exs, key=lambda t: t[0])\n",
    "for d in sorted_by_ex:\n",
    "    print(d)"
   ],
   "metadata": {
    "collapsed": false,
    "pycharm": {
     "name": "#%%\n"
    }
   }
  },
  {
   "cell_type": "code",
   "execution_count": null,
   "outputs": [],
   "source": [
    "# 03. Imputation3: and How Often?\n",
    "sorted_by_count = sorted(dataset_exs, key=lambda t: t[1], reverse=True)\n",
    "for d in sorted_by_count:\n",
    "     print(d)"
   ],
   "metadata": {
    "collapsed": false,
    "pycharm": {
     "name": "#%%\n"
    }
   }
  }
 ],
 "metadata": {
  "kernelspec": {
   "display_name": "Python 3",
   "language": "python",
   "name": "python3"
  },
  "language_info": {
   "codemirror_mode": {
    "name": "ipython",
    "version": 2
   },
   "file_extension": ".py",
   "mimetype": "text/x-python",
   "name": "python",
   "nbconvert_exporter": "python",
   "pygments_lexer": "ipython2",
   "version": "2.7.6"
  }
 },
 "nbformat": 4,
 "nbformat_minor": 0
}