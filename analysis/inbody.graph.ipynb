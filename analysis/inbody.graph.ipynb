{
 "cells": [
  {
   "cell_type": "markdown",
   "source": [
    "## InBody Graph\n",
    "\n",
    "#### WT: 체중 kg\n",
    "#### SMM: 골격근량 kg\n",
    "#### BFM: 체지방  kg\n",
    "#### PFM: 체지방률 %"
   ],
   "metadata": {
    "collapsed": false,
    "pycharm": {
     "name": "#%% md\n"
    }
   }
  },
  {
   "cell_type": "code",
   "execution_count": null,
   "outputs": [],
   "source": [
    "import ssl\n",
    "from urllib.request import Request, urlopen\n",
    "from datetime import datetime\n",
    "\n",
    "def crawling(url='', encoding='utf-8', err=lambda e: print(f'{e} : {datetime.now()}', file=sys.stderr)):\n",
    "    try:\n",
    "        req = Request(url)\n",
    "        ssl._create_default_https_context = ssl._create_unverified_context\n",
    "\n",
    "        resp = urlopen(req)\n",
    "        recv = resp.read().decode(encoding, errors='replace')\n",
    "\n",
    "        print(f'{datetime.now()}: success for request [{url}]')\n",
    "        return recv\n",
    "    except Exception as e:\n",
    "        err(e)"
   ],
   "metadata": {
    "collapsed": false,
    "pycharm": {
     "name": "#%%\n"
    }
   }
  },
  {
   "cell_type": "code",
   "execution_count": null,
   "outputs": [],
   "source": [
    "import sys\n",
    "from functools import reduce\n",
    "from utils import crawling\n",
    "\n",
    "resfetch = list(filter(\n",
    "    lambda s: s.startswith('#'),\n",
    "    reduce(\n",
    "        lambda param, func: func(param),\n",
    "        [lambda txt: [] if txt is None else txt.split('\\n'), lambda strs: [f(s) for f in [str.strip] for s in strs]],\n",
    "        crawling('https://raw.githubusercontent.com/kickscar/HELLCHANG-PRACTICES/main/InBody.md')\n",
    "    )\n",
    "))\n",
    "\n",
    "if len(resfetch) == 0:\n",
    "    sys.exit(0)\n",
    "\n",
    "print(resfetch)"
   ],
   "metadata": {
    "collapsed": false,
    "pycharm": {
     "name": "#%%\n"
    }
   }
  },
  {
   "cell_type": "code",
   "execution_count": null,
   "outputs": [],
   "source": [
    "import re\n",
    "\n",
    "resarrange = []\n",
    "\n",
    "for res in resfetch:\n",
    "    if res.startswith('####'):\n",
    "        item, val = (s.strip() for s in res.replace('####', '').strip().split(':'))\n",
    "        sval, unit = re.compile(r'(\\d+.\\d*)\\s*(.*)').match(re.sub(r\"[\\([{})\\]\\s]\", \"\", val)).groups()\n",
    "        resarrange.append((date, item, float(sval), unit))\n",
    "    elif res.startswith('##'):\n",
    "        date = res.replace('##', '').strip()\n",
    "\n",
    "print(resarrange)"
   ],
   "metadata": {
    "collapsed": false,
    "pycharm": {
     "name": "#%%\n"
    }
   }
  },
  {
   "cell_type": "code",
   "execution_count": null,
   "outputs": [],
   "source": [
    "from datetime import datetime\n",
    "\n",
    "dataset_x, dataset_y, d, key = [], {}, '', ''\n",
    "for result in resarrange:\n",
    "    if d != result[0]:\n",
    "        d = result[0]\n",
    "        dataset_x.append(datetime.strptime(d, '%Y.%m.%d'))\n",
    "\n",
    "    if key != result[1]:\n",
    "        key = result[1]\n",
    "        if key not in dataset_y:\n",
    "            dataset_y.update({key: {'unit': result[3], 'values': []}})\n",
    "        dataset_y[key]['values'].append(result[2])\n",
    "\n",
    "print(dataset_x)\n",
    "print(dataset_y)"
   ],
   "metadata": {
    "collapsed": false,
    "pycharm": {
     "name": "#%%\n"
    }
   }
  },
  {
   "cell_type": "code",
   "execution_count": null,
   "outputs": [],
   "source": [
    "from itertools import cycle\n",
    "from matplotlib import pyplot as plt\n",
    "\n",
    "dataset_x_days = [(x - dataset_x[0]).days for x in dataset_x]\n",
    "dataset_x_fdates = [x.strftime('%m.%d') for x in dataset_x]\n",
    "\n",
    "legendhandles = []\n",
    "cycol = cycle('bgrcmk')\n",
    "\n",
    "fig = plt.figure(figsize=(30, 10))\n",
    "spec = plt.GridSpec(1, 1)\n",
    "subplot = fig.add_subplot(spec[0, 0])\n",
    "\n",
    "subplot.set_yticks([])\n",
    "subplot.set_xticks(dataset_x_days)\n",
    "subplot.set_xticklabels(dataset_x_fdates, fontsize=9)\n",
    "\n",
    "for key in dataset_y.keys():\n",
    "    tx = subplot.twinx()\n",
    "\n",
    "    tx.set_yticks([])\n",
    "    line, = tx.plot(dataset_x_days, dataset_y[key]['values'], 'o-', color=next(cycol), label=f\"{key}({dataset_y[key]['unit']})\")\n",
    "\n",
    "    for idx, yv in enumerate(dataset_y[key]['values']):\n",
    "        tx.annotate(str(yv), xy=(dataset_x_days[idx], yv), xytext=(-10, 5), textcoords='offset points')\n",
    "\n",
    "    legendhandles.append(line)\n",
    "\n",
    "plt.legend(handles=legendhandles, loc='lower center')\n",
    "plt.show()"
   ],
   "metadata": {
    "collapsed": false,
    "pycharm": {
     "name": "#%%\n"
    }
   }
  }
 ],
 "metadata": {
  "kernelspec": {
   "display_name": "Python 3",
   "language": "python",
   "name": "python3"
  },
  "language_info": {
   "codemirror_mode": {
    "name": "ipython",
    "version": 2
   },
   "file_extension": ".py",
   "mimetype": "text/x-python",
   "name": "python",
   "nbconvert_exporter": "python",
   "pygments_lexer": "ipython2",
   "version": "2.7.6"
  }
 },
 "nbformat": 4,
 "nbformat_minor": 0
}