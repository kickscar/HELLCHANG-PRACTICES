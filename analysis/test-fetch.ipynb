{
 "cells": [
  {
   "cell_type": "code",
   "execution_count": 10,
   "outputs": [
    {
     "name": "stdout",
     "output_type": "stream",
     "text": [
      "2022-08-18 20:36:58.361271: success for request [https://raw.githubusercontent.com/kickscar/HELLCHANG-PRACTICES/main/training-record/Week050.md]\n",
      "[('2022/08/08', '1.Plank', '1mins', '3reps'), ('2022/08/08', '2.One Leg Deadlift\\\\[Kettlebell\\\\]', '10kg', '15reps', '5sets'), ('2022/08/08', '3.Side Lateral Raise\\\\[Dumbbell\\\\]', '5kg', '25reps', '5sets'), ('2022/08/08', '4.Behind the Neck Press\\\\[Machine, Smith\\\\]', '35kg', '20reps', '5sets'), ('2022/08/08', '5.One Arm Shoulder Press\\\\[Dumbbell\\\\]', '10kg', '20reps', '5sets,'), ('2022/08/08', '6.Reverse Pec Deck Fly\\\\[Machine, Pec Deck\\\\]', '30kg', '20reps', '4sets'), ('2022/08/09', '1.Plank', '1mins', '3reps'), ('2022/08/09', '2.One Leg Deadlift\\\\[Kettlebell\\\\]', '10kg', '15reps', '5sets'), ('2022/08/09', '3.Straight Arm Pulldown\\\\[Cable\\\\]', '20kg', '20reps', '5sets'), ('2022/08/09', '4.Wide Pulldown Rear\\\\[Machine\\\\]', '30kg', '20reps', '5sets'), ('2022/08/09', '5.Seated Row\\\\[Machine\\\\]', '30kg', '20reps', '5sets'), ('2022/08/10', '1.Plank', '1mins', '3reps'), ('2022/08/10', '2.One Leg Deadlift\\\\[Kettlebell\\\\]', '10kg', '15reps', '5sets'), ('2022/08/10', '3.Deadlift\\\\[Barbell\\\\]', '40kg', '15reps', '5sets'), ('2022/08/10', '4.Power Leg Press\\\\[Machine\\\\]', '40kg', '20reps', '5sets'), ('2022/08/10', '5.Lying Leg Curls\\\\[Machine\\\\]', '30kg', '15reps', '5sets'), ('2022/08/10', '6.Split Squat\\\\[Kettlebell\\\\]', '10kg', '15reps', '5sets'), ('2022/08/10', '7.Hip Abduction\\\\[Machine\\\\]', '65kg', '20reps', '5sets'), ('2022/08/11', '1.Plank', '1mins', '3reps'), ('2022/08/11', '2.One Leg Deadlift\\\\[Kettlebell\\\\]', '10kg', '15reps', '5sets'), ('2022/08/11', '3.Dips', '15reps', '4sets'), ('2022/08/11', '4.Flat Bench Press\\\\[Dumbbell\\\\]', '12kg', '20reps', '2sets,', '14kg', '20reps', '2sets'), ('2022/08/11', '5.Flat Bench Press\\\\[Barbell\\\\]', '40kg', '15reps', '2sets,', '50kg', '15reps', '2sets'), ('2022/08/11', '6.Cable Cross-Over\\\\[Cable\\\\]', '40kg', '20reps', '4sets'), ('2022/08/11', '7.Running', '5km/30mins'), ('2022/08/12', '1.Plank', '1mins', '3reps'), ('2022/08/12', '2.Side Lateral Raise\\\\[Dumbbell\\\\]', '5kg', '25reps', '5sets'), ('2022/08/12', '3.Behind the Neck Press\\\\[Machine, Smith\\\\]', '30kg', '20reps', '5sets'), ('2022/08/12', '4.One Arm Shoulder Press\\\\[Dumbbell\\\\]', '10kg', '20reps', '5sets,'), ('2022/08/12', '5.Reverse Pec Deck Fly\\\\[Machine, Pec Deck\\\\]', '30kg', '20reps', '4sets'), ('2022/08/12', '6.Military Press\\\\[Smith Machine\\\\]', '30kg', '15reps', '5sets'), ('2022/08/14', '1.Plank', '1mins', '3reps'), ('2022/08/14', '2.One Leg Deadlift\\\\[Kettlebell\\\\]', '10kg', '15reps', '5sets'), ('2022/08/14', '3.Assisted Pullup\\\\[Machine\\\\]', '-20kg', '15reps', '5sets'), ('2022/08/14', '4.Bent Over Row\\\\[Barbell\\\\]', '30kg', '15reps', '5sets'), ('2022/08/14', '5.Long Pull Row\\\\[Cable\\\\]', '30kg', '12reps', '5sets'), ('2022/08/14', '6.Wide Pulldown Rear\\\\[Machine\\\\]', '40kg', '20reps', '5sets'), ('2022/08/14', '7.Seated Row\\\\[Machine\\\\]', '30kg', '20reps', '5sets'), ('2022/08/14', '8.Straight Arm Pulldown\\\\[Cable\\\\]', '20kg', '20reps', '5sets')]\n",
      "2022-08-18 20:36:58.416202: success for request [https://raw.githubusercontent.com/kickscar/HELLCHANG-PRACTICES/main/training-record/Week051.md]\n",
      "[('2022/08/15', '1.Plank', '1mins', '3reps'), ('2022/08/15', '2.One Leg Deadlift\\\\[Kettlebell\\\\]', '10kg', '15reps', '5sets'), ('2022/08/15', '2.Flat Bench Press\\\\[Barbell\\\\]', '40kg', '15reps', '2sets,', '50kg', '15reps', '2sets'), ('2022/08/15', '3.Assisted Dips\\\\[Machine\\\\]', '-20kg', '15reps', '5sets'), ('2022/08/15', '4.Incline Bench Press\\\\[Dumbbell\\\\]', '12kg', '15reps', '3sets,', '14kg', '15reps', '2sets'), ('2022/08/15', '5.Cable Cross-Over\\\\[Cable\\\\]', '40kg', '15reps', '3sets'), ('2022/08/15', '6.Chest Fly\\\\[Machine, Pec Deck\\\\]', '30kg', '20reps', '2sets,', '35kg', '20reps', '2set'), ('2022/08/15', '7.Running', '5km/30mins'), ('2022/08/16', '1.Plank', '1mins', '3reps'), ('2022/08/16', '2.One Leg Deadlift\\\\[Kettlebell\\\\]', '10kg', '15reps', '5sets'), ('2022/08/16', '3.Full Squat\\\\[Barbell\\\\]', '40kg', '15reps', '2sets,', '50kg', '10reps', '3set'), ('2022/08/16', '4.Leg Extension\\\\[Machine\\\\]', '30kg', '15reps', '3sets,', '35kg', '15reps', '2sets'), ('2022/08/16', '5.Seated One-Leg Press\\\\[Machine\\\\]', '40kg', '15reps', '5sets'), ('2022/08/16', '6.Running', '5km/30mins'), ('2022/08/17', '1.Plank', '1mins', '3reps'), ('2022/08/17', '2.Seated Row\\\\[Machine\\\\]', '30kg', '20reps', '5sets'), ('2022/08/17', '3.Lat Pulldown\\\\[Machine\\\\]', '35kg', '12reps', '4sets'), ('2022/08/17', '4.Long Pull Row\\\\[Cable\\\\]', '30kg', '12reps', '5sets'), ('2022/08/17', '5.Bent Over Row\\\\[Barbell\\\\]', '30kg', '15reps', '5sets'), ('2022/08/17', '6.Running', '5km/30mins')]\n"
     ]
    }
   ],
   "source": [
    "import sys\n",
    "from itertools import count\n",
    "from utils import crawling, clean_strings, filters\n",
    "\n",
    "\n",
    "def fetch_week_records(week):\n",
    "    return list(filter(\n",
    "        lambda s: s.startswith('#'),\n",
    "        filters(\n",
    "            crawling(\n",
    "                'https://raw.githubusercontent.com/kickscar/HELLCHANG-PRACTICES/main/training-record/Week0%02d.md' % week,\n",
    "                err=lambda e: None),\n",
    "            lambda d: [] if d is None else d.split('\\n'),\n",
    "            lambda d: clean_strings(d, str.strip))))\n",
    "\n",
    "\n",
    "def arrange_week_recored(logs):\n",
    "    records = []\n",
    "\n",
    "    for log in logs:\n",
    "        if log.startswith('####'):\n",
    "            exercise, recorditems = (log.replace('####', '').strip().split(':'))\n",
    "            records.append((date, exercise, *recorditems.strip().split(' ')))\n",
    "        elif log.startswith('##'):\n",
    "            date = log.replace('##', '').strip()\n",
    "\n",
    "    return records\n",
    "\n",
    "\n",
    "for index in count(start=1):\n",
    "    logs = fetch_week_records(index)\n",
    "    if len(logs) == 0:\n",
    "        break\n",
    "\n",
    "    results = arrange_week_recored(logs)\n",
    "    print(results)\n",
    "\n",
    "\n"
   ],
   "metadata": {
    "collapsed": false,
    "pycharm": {
     "name": "#%%\n"
    }
   }
  },
  {
   "cell_type": "code",
   "execution_count": null,
   "outputs": [],
   "source": [],
   "metadata": {
    "collapsed": false,
    "pycharm": {
     "name": "#%%\n"
    }
   }
  }
 ],
 "metadata": {
  "kernelspec": {
   "display_name": "Python 3",
   "language": "python",
   "name": "python3"
  },
  "language_info": {
   "codemirror_mode": {
    "name": "ipython",
    "version": 2
   },
   "file_extension": ".py",
   "mimetype": "text/x-python",
   "name": "python",
   "nbconvert_exporter": "python",
   "pygments_lexer": "ipython2",
   "version": "2.7.6"
  }
 },
 "nbformat": 4,
 "nbformat_minor": 0
}