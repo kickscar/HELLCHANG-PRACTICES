{
 "cells": [
  {
   "cell_type": "code",
   "execution_count": 3,
   "outputs": [
    {
     "name": "stdout",
     "output_type": "stream",
     "text": [
      "2022-08-18 18:11:01.353630: success for request [https://raw.githubusercontent.com/kickscar/HELLCHANG-PRACTICES/main/training-record/Week050.md]\n",
      "2022-08-18 18:11:01.712935: success for request [https://raw.githubusercontent.com/kickscar/HELLCHANG-PRACTICES/main/training-record/Week051.md]\n"
     ]
    },
    {
     "ename": "UserWarning",
     "evalue": "-- finish --",
     "output_type": "error",
     "traceback": [
      "\u001B[0;31m---------------------------------------------------------------------------\u001B[0m",
      "\u001B[0;31mUserWarning\u001B[0m                               Traceback (most recent call last)",
      "Input \u001B[0;32mIn [3]\u001B[0m, in \u001B[0;36m<cell line: 17>\u001B[0;34m()\u001B[0m\n\u001B[1;32m     18\u001B[0m datasets \u001B[38;5;241m=\u001B[39m fetch_week_records(index);\n\u001B[1;32m     20\u001B[0m \u001B[38;5;28;01mif\u001B[39;00m \u001B[38;5;28msum\u001B[39m(\u001B[38;5;241m1\u001B[39m \u001B[38;5;28;01mfor\u001B[39;00m e \u001B[38;5;129;01min\u001B[39;00m datasets) \u001B[38;5;241m==\u001B[39m \u001B[38;5;241m0\u001B[39m:\n\u001B[0;32m---> 21\u001B[0m     \u001B[38;5;28;01mraise\u001B[39;00m \u001B[38;5;167;01mUserWarning\u001B[39;00m(\u001B[38;5;124m'\u001B[39m\u001B[38;5;124m-- finish --\u001B[39m\u001B[38;5;124m'\u001B[39m)\n\u001B[1;32m     23\u001B[0m \u001B[38;5;28;01mfor\u001B[39;00m dataset \u001B[38;5;129;01min\u001B[39;00m datasets:\n\u001B[1;32m     24\u001B[0m     \u001B[38;5;28mprint\u001B[39m(dataset)\n",
      "\u001B[0;31mUserWarning\u001B[0m: -- finish --"
     ]
    }
   ],
   "source": [
    "import sys\n",
    "from itertools import count\n",
    "from utils import crawling, clean_strings, filters\n",
    "\n",
    "\n",
    "def fetch_week_records(week):\n",
    "    yield from list(filter(\n",
    "        lambda s: s.startswith('#'),\n",
    "        filters(\n",
    "            crawling(\n",
    "                'https://raw.githubusercontent.com/kickscar/HELLCHANG-PRACTICES/main/training-record/Week0%02d.md' % week,\n",
    "                err=lambda e: None),\n",
    "            lambda d: [] if d is None else d.split('\\n'),\n",
    "            lambda d: clean_strings(d, str.strip))))\n",
    "\n",
    "\n",
    "for index in count(start=50):\n",
    "    datasets = fetch_week_records(index);\n",
    "\n",
    "    if sum(1 for e in datasets) == 0:\n",
    "        raise UserWarning('-- finish --')\n",
    "\n",
    "    for dataset in datasets:\n",
    "        print(dataset)\n",
    "        cnt = cnt + 1"
   ],
   "metadata": {
    "collapsed": false,
    "pycharm": {
     "name": "#%%\n"
    }
   }
  },
  {
   "cell_type": "code",
   "execution_count": null,
   "outputs": [],
   "source": [],
   "metadata": {
    "collapsed": false,
    "pycharm": {
     "name": "#%%\n"
    }
   }
  }
 ],
 "metadata": {
  "kernelspec": {
   "display_name": "Python 3",
   "language": "python",
   "name": "python3"
  },
  "language_info": {
   "codemirror_mode": {
    "name": "ipython",
    "version": 2
   },
   "file_extension": ".py",
   "mimetype": "text/x-python",
   "name": "python",
   "nbconvert_exporter": "python",
   "pygments_lexer": "ipython2",
   "version": "2.7.6"
  }
 },
 "nbformat": 4,
 "nbformat_minor": 0
}